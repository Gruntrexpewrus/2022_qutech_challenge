{
 "cells": [
  {
   "cell_type": "markdown",
   "metadata": {},
   "source": [
    "# Initial Import\n",
    "\n",
    "## do this!"
   ]
  },
  {
   "cell_type": "code",
   "execution_count": 7,
   "metadata": {},
   "outputs": [],
   "source": [
    "import numpy as np\n",
    "import os\n",
    "\n",
    "from qiskit.tools.visualization import circuit_drawer, plot_histogram\n",
    "from qiskit import execute, QuantumCircuit, QuantumRegister, ClassicalRegister\n",
    "from qiskit import BasicAer\n",
    "from IPython.display import display, Math, Latex\n",
    "\n",
    "from quantuminspire.credentials import get_authentication\n",
    "from quantuminspire.api import QuantumInspireAPI\n",
    "from quantuminspire.qiskit import QI"
   ]
  },
  {
   "cell_type": "markdown",
   "metadata": {},
   "source": [
    "Automatic saving of credentials on your pc"
   ]
  },
  {
   "cell_type": "code",
   "execution_count": 8,
   "metadata": {},
   "outputs": [],
   "source": [
    "''' RUN THIS ONLY 1 TIME, THEN CREDENTIALS WILL BE STORED ON YOUR PC (DISK) '''\n",
    "\n",
    "from quantuminspire.credentials import save_account\n",
    "save_account('You API TOKEN PUT HERE') #==> go on QuantumInspire website ==> MiQI ==>account"
   ]
  },
  {
   "cell_type": "code",
   "execution_count": 9,
   "metadata": {},
   "outputs": [],
   "source": [
    "from quantuminspire.qiskit import QI\n",
    "QI.set_authentication()"
   ]
  },
  {
   "cell_type": "code",
   "execution_count": 4,
   "metadata": {},
   "outputs": [],
   "source": [
    "QI.set_project_name('As-You-Like')"
   ]
  },
  {
   "cell_type": "code",
   "execution_count": 23,
   "metadata": {},
   "outputs": [],
   "source": [
    "###############\n",
    "# Old stuff if you wanna identify each time\n",
    "#DO NOT USE\n",
    "###############\n",
    "\n",
    "#QI_URL = os.getenv('QI_URL', 'https://api.quantum-inspire.com/')\n",
    "#authentication = get_authentication()\n",
    "#QI.set_authentication(authentication, QI_URL)"
   ]
  },
  {
   "cell_type": "code",
   "execution_count": 10,
   "metadata": {},
   "outputs": [
    {
     "data": {
      "text/plain": [
       "[<QuantumInspireBackend('Spin-2')>,\n",
       " <QuantumInspireBackend('Starmon-5')>,\n",
       " <QuantumInspireBackend('QX-34-L')>,\n",
       " <QuantumInspireBackend('QX single-node simulator')>]"
      ]
     },
     "execution_count": 10,
     "metadata": {},
     "output_type": "execute_result"
    }
   ],
   "source": [
    "QI.backends()"
   ]
  },
  {
   "cell_type": "code",
   "execution_count": 11,
   "metadata": {},
   "outputs": [
    {
     "name": "stdout",
     "output_type": "stream",
     "text": [
      "        ┌───┐ ░ ┌─┐         \n",
      "   q_0: ┤ H ├─░─┤M├─────────\n",
      "        ├───┤ ░ └╥┘┌─┐      \n",
      "   q_1: ┤ H ├─░──╫─┤M├──────\n",
      "        ├───┤ ░  ║ └╥┘┌─┐   \n",
      "   q_2: ┤ H ├─░──╫──╫─┤M├───\n",
      "        ├───┤ ░  ║  ║ └╥┘┌─┐\n",
      "   q_3: ┤ H ├─░──╫──╫──╫─┤M├\n",
      "        └───┘ ░  ║  ║  ║ └╥┘\n",
      "meas: 4/═════════╩══╩══╩══╩═\n",
      "                 0  1  2  3 \n"
     ]
    },
    {
     "data": {
      "image/png": "[encoded data removed]",
      "text/plain": [
       "<Figure size 504x360 with 1 Axes>"
      ]
     },
     "execution_count": 11,
     "metadata": {},
     "output_type": "execute_result"
    }
   ],
   "source": [
    "#typical qiskit sintax\n",
    "CiroAndLeo = QuantumCircuit(4)\n",
    "for i in range(4):\n",
    "    CiroAndLeo.h(i)\n",
    "CiroAndLeo.measure_all()\n",
    "print(CiroAndLeo)\n",
    "\n",
    "backend_type = QI.get_backend('QX single-node simulator')\n",
    "#BASICALLY JUST USE EXECUTE METHOD IN QISKIT AND YOU'RE OK\n",
    "results = execute(CiroAndLeo, backend=backend_type, shots = 15).result()\n",
    "counts = results.get_counts()\n",
    "the_plot = plot_histogram(counts)\n",
    "the_plot\n"
   ]
  }
 ],
 "metadata": {
  "interpreter": {
   "hash": "1c10d7ed6824701a029a4a186fae5f707687a410fd7b9ed74994a883628e940d"
  },
  "kernelspec": {
   "display_name": "Python 3.8.12 64-bit ('Quantum': conda)",
   "language": "python",
   "name": "python3"
  },
  "language_info": {
   "codemirror_mode": {
    "name": "ipython",
    "version": 3
   },
   "file_extension": ".py",
   "mimetype": "text/x-python",
   "name": "python",
   "nbconvert_exporter": "python",
   "pygments_lexer": "ipython3",
   "version": "3.8.11"
  },
  "orig_nbformat": 4
 },
 "nbformat": 4,
 "nbformat_minor": 2
}
