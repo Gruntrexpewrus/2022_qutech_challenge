{
 "cells": [
  {
   "cell_type": "code",
   "execution_count": 2,
   "metadata": {},
   "outputs": [],
   "source": [
    "import numpy as np\n",
    "import os\n",
    "\n",
    "from qiskit.tools.visualization import circuit_drawer, plot_histogram\n",
    "from qiskit import execute, QuantumCircuit, QuantumRegister, ClassicalRegister\n",
    "from qiskit import BasicAer\n",
    "from IPython.display import display, Math, Latex\n",
    "from qiskit import QuantumCircuit, Aer, transpile\n",
    "from qiskit.visualization import plot_histogram, plot_bloch_multivector\n",
    "from numpy.random import randint\n",
    "import numpy as np\n",
    "from quantuminspire.credentials import get_authentication\n",
    "from quantuminspire.api import QuantumInspireAPI\n",
    "from quantuminspire.qiskit import QI"
   ]
  },
  {
   "cell_type": "code",
   "execution_count": 4,
   "metadata": {},
   "outputs": [],
   "source": [
    "from qinterface import init_QI, BB84, E91"
   ]
  },
  {
   "cell_type": "code",
   "execution_count": 6,
   "metadata": {},
   "outputs": [],
   "source": [
    "# backend = init_QI()\n",
    "backend = Aer.get_backend('aer_simulator')"
   ]
  },
  {
   "cell_type": "code",
   "execution_count": 7,
   "metadata": {},
   "outputs": [
    {
     "data": {
      "text/plain": [
       "[1, 0, 0, 1, 0, 1, 0]"
      ]
     },
     "execution_count": 7,
     "metadata": {},
     "output_type": "execute_result"
    }
   ],
   "source": [
    "bitstr = [0, 1, 0, 1, 0, 1, 0]\n",
    "alice_basis = [0, 0, 0, 1, 1, 1, 1]\n",
    "bob_basis = [1, 1, 1, 1, 1, 1, 1]\n",
    "\n",
    "BB84(backend, bitstr, alice_basis, bob_basis)"
   ]
  },
  {
   "cell_type": "code",
   "execution_count": 8,
   "metadata": {},
   "outputs": [
    {
     "name": "stdout",
     "output_type": "stream",
     "text": [
      "00\n",
      "        ┌───┐┌───┐     ┌───┐ ░ ┌─┐   \n",
      "   q_0: ┤ X ├┤ H ├──■──┤ X ├─░─┤M├───\n",
      "        └───┘└───┘┌─┴─┐├───┤ ░ └╥┘┌─┐\n",
      "   q_1: ──────────┤ X ├┤ H ├─░──╫─┤M├\n",
      "                  └───┘└───┘ ░  ║ └╥┘\n",
      "meas: 2/════════════════════════╩══╩═\n",
      "                                0  1 \n",
      "10\n",
      "        ┌───┐┌───┐     ┌───┐ ░ ┌─┐   \n",
      "   q_0: ┤ X ├┤ H ├──■──┤ X ├─░─┤M├───\n",
      "        └───┘└───┘┌─┴─┐└───┘ ░ └╥┘┌─┐\n",
      "   q_1: ──────────┤ X ├──────░──╫─┤M├\n",
      "                  └───┘      ░  ║ └╥┘\n",
      "meas: 2/════════════════════════╩══╩═\n",
      "                                0  1 \n",
      "10\n",
      "        ┌───┐┌───┐     ┌───┐┌───┐ ░ ┌─┐   \n",
      "   q_0: ┤ X ├┤ H ├──■──┤ X ├┤ H ├─░─┤M├───\n",
      "        └───┘└───┘┌─┴─┐├───┤└───┘ ░ └╥┘┌─┐\n",
      "   q_1: ──────────┤ X ├┤ H ├──────░──╫─┤M├\n",
      "                  └───┘└───┘      ░  ║ └╥┘\n",
      "meas: 2/═════════════════════════════╩══╩═\n",
      "                                     0  1 \n",
      "01\n",
      "        ┌───┐┌───┐     ┌───┐┌───┐ ░ ┌─┐   \n",
      "   q_0: ┤ X ├┤ H ├──■──┤ X ├┤ H ├─░─┤M├───\n",
      "        └───┘└───┘┌─┴─┐└───┘└───┘ ░ └╥┘┌─┐\n",
      "   q_1: ──────────┤ X ├───────────░──╫─┤M├\n",
      "                  └───┘           ░  ║ └╥┘\n",
      "meas: 2/═════════════════════════════╩══╩═\n",
      "                                     0  1 \n",
      "[0, 1, 1, 0] [1, 1, 1, 0]\n"
     ]
    }
   ],
   "source": [
    "alice_basis = [0, 0, 1, 1]\n",
    "bob_basis = [1, 0, 1, 0]\n",
    "measA, measB = E91(backend, alice_basis, bob_basis)\n",
    "measB = [1-i%2 for i in measB] #in this way the successful bits are the ones that match between A and B\n",
    "print(measA, measB)\n"
   ]
  },
  {
   "cell_type": "code",
   "execution_count": null,
   "metadata": {},
   "outputs": [],
   "source": []
  }
 ],
 "metadata": {
  "interpreter": {
   "hash": "1c10d7ed6824701a029a4a186fae5f707687a410fd7b9ed74994a883628e940d"
  },
  "kernelspec": {
   "display_name": "Python 3.8.12 64-bit ('Quantum': conda)",
   "language": "python",
   "name": "python3"
  },
  "language_info": {
   "codemirror_mode": {
    "name": "ipython",
    "version": 3
   },
   "file_extension": ".py",
   "mimetype": "text/x-python",
   "name": "python",
   "nbconvert_exporter": "python",
   "pygments_lexer": "ipython3",
   "version": "3.9.7"
  },
  "orig_nbformat": 4
 },
 "nbformat": 4,
 "nbformat_minor": 2
}
